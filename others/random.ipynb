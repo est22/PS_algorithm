{
 "cells": [
  {
   "cell_type": "code",
   "execution_count": 5,
   "source": [
    "import random\n",
    "l = [\"트리\",\"최대힙\",\"최소힙\",\"절댓값힙\"] \n",
    "m = [\"기원\",\"영민\",\"리아\"]\n",
    "ord = [1,2,3]\n",
    "print(random.sample(l, 3))\n",
    "print(random.sample(m, 3))\n",
    "print(random.sample(ord, 3))"
   ],
   "outputs": [
    {
     "output_type": "stream",
     "name": "stdout",
     "text": [
      "['트리', '절댓값힙', '최대힙']\n",
      "['기원', '영민', '리아']\n"
     ]
    }
   ],
   "metadata": {}
  }
 ],
 "metadata": {
  "orig_nbformat": 4,
  "language_info": {
   "name": "python",
   "version": "3.8.3",
   "mimetype": "text/x-python",
   "codemirror_mode": {
    "name": "ipython",
    "version": 3
   },
   "pygments_lexer": "ipython3",
   "nbconvert_exporter": "python",
   "file_extension": ".py"
  },
  "kernelspec": {
   "name": "python3",
   "display_name": "Python 3.8.3 64-bit ('base': conda)"
  },
  "interpreter": {
   "hash": "dca0ade3e726a953b501b15e8e990130d2b7799f14cfd9f4271676035ebe5511"
  }
 },
 "nbformat": 4,
 "nbformat_minor": 2
}